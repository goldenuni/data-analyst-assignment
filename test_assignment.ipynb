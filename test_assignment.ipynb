{
 "cells": [
  {
   "cell_type": "code",
   "execution_count": 29,
   "id": "initial_id",
   "metadata": {
    "collapsed": true,
    "ExecuteTime": {
     "end_time": "2024-06-21T17:48:56.241049Z",
     "start_time": "2024-06-21T17:48:56.235170Z"
    }
   },
   "outputs": [],
   "source": [
    "import os\n",
    "\n",
    "import numpy as np\n",
    "import pandas as pd\n",
    "\n",
    "from dotenv import load_dotenv\n",
    "from sqlalchemy import create_engine"
   ]
  },
  {
   "cell_type": "markdown",
   "source": [
    "Завдання 3"
   ],
   "metadata": {
    "collapsed": false
   },
   "id": "e9c10b8b076ff00e"
  },
  {
   "cell_type": "code",
   "outputs": [],
   "source": [
    "load_dotenv()\n",
    "\n",
    "db_user = os.getenv(\"DB_USER\")\n",
    "db_password = os.getenv(\"DB_PASSWORD\")\n",
    "db_host = os.getenv(\"DB_HOST\")\n",
    "db_port = os.getenv(\"DB_PORT\")\n",
    "db_name = os.getenv(\"DB_NAME\")\n"
   ],
   "metadata": {
    "collapsed": false,
    "ExecuteTime": {
     "end_time": "2024-06-21T17:48:56.359039Z",
     "start_time": "2024-06-21T17:48:56.348611Z"
    }
   },
   "id": "b367a244625209cf",
   "execution_count": 30
  },
  {
   "cell_type": "code",
   "outputs": [],
   "source": [
    "connection_string = f\"postgresql://{db_user}:{db_password}@{db_host}:{db_port}/{db_name}\"\n",
    "engine = create_engine(connection_string)\n",
    "\n",
    "conn = engine.connect()\n",
    "\n",
    "changelogs = pd.read_sql(\n",
    "    \"SELECT * FROM changelogs\", conn\n",
    ")\n",
    "issues = pd.read_sql(\n",
    "    \"SELECT * FROM issues\", conn\n",
    ")\n",
    "status_duration = pd.read_sql(\n",
    "    \"SELECT * FROM status_duration\", conn\n",
    ")\n",
    "\n",
    "conn.close()"
   ],
   "metadata": {
    "collapsed": false,
    "ExecuteTime": {
     "end_time": "2024-06-21T17:48:56.664592Z",
     "start_time": "2024-06-21T17:48:56.377602Z"
    }
   },
   "id": "ab5e65646f9ed31c",
   "execution_count": 31
  },
  {
   "cell_type": "code",
   "outputs": [
    {
     "data": {
      "text/plain": "       issue_key author_key    status          start_date            end_date  \\\n0     PYTHON-109       mike      Open 2010-03-05 18:51:36 2010-03-10 12:13:11   \n1     PYTHON-108       mike      Open 2010-03-05 14:28:32 2010-08-19 15:58:33   \n2     PYTHON-107       mike      Open 2010-03-01 04:07:10 2010-03-02 12:08:58   \n3     PYTHON-106       mike      Open 2010-02-28 19:54:09 2010-05-10 17:41:21   \n4     PYTHON-105       mike      Open 2010-02-19 22:54:44 2010-02-22 15:45:32   \n...          ...        ...       ...                 ...                 ...   \n8914    PYTHON-4  behackett      Open 2009-04-09 09:40:32 2011-07-12 02:47:50   \n8915    PYTHON-4  behackett  Resolved 2009-04-09 09:40:32 2011-08-05 23:04:33   \n8916    PYTHON-3       mike      Open 2009-04-09 09:39:56 2009-10-26 12:08:50   \n8917    PYTHON-2       mike      Open 2009-04-09 09:39:06 2009-07-20 17:19:39   \n8918    PYTHON-1       mike      Open 2009-04-09 09:38:38 2009-07-15 14:47:27   \n\n      calendar_duration  \n0              408095.0  \n1            14434201.0  \n2              115308.0  \n3             6126432.0  \n4              233448.0  \n...                 ...  \n8914         71168838.0  \n8915         73315441.0  \n8916         17288934.0  \n8917          8840433.0  \n8918          8399329.0  \n\n[8919 rows x 6 columns]",
      "text/html": "<div>\n<style scoped>\n    .dataframe tbody tr th:only-of-type {\n        vertical-align: middle;\n    }\n\n    .dataframe tbody tr th {\n        vertical-align: top;\n    }\n\n    .dataframe thead th {\n        text-align: right;\n    }\n</style>\n<table border=\"1\" class=\"dataframe\">\n  <thead>\n    <tr style=\"text-align: right;\">\n      <th></th>\n      <th>issue_key</th>\n      <th>author_key</th>\n      <th>status</th>\n      <th>start_date</th>\n      <th>end_date</th>\n      <th>calendar_duration</th>\n    </tr>\n  </thead>\n  <tbody>\n    <tr>\n      <th>0</th>\n      <td>PYTHON-109</td>\n      <td>mike</td>\n      <td>Open</td>\n      <td>2010-03-05 18:51:36</td>\n      <td>2010-03-10 12:13:11</td>\n      <td>408095.0</td>\n    </tr>\n    <tr>\n      <th>1</th>\n      <td>PYTHON-108</td>\n      <td>mike</td>\n      <td>Open</td>\n      <td>2010-03-05 14:28:32</td>\n      <td>2010-08-19 15:58:33</td>\n      <td>14434201.0</td>\n    </tr>\n    <tr>\n      <th>2</th>\n      <td>PYTHON-107</td>\n      <td>mike</td>\n      <td>Open</td>\n      <td>2010-03-01 04:07:10</td>\n      <td>2010-03-02 12:08:58</td>\n      <td>115308.0</td>\n    </tr>\n    <tr>\n      <th>3</th>\n      <td>PYTHON-106</td>\n      <td>mike</td>\n      <td>Open</td>\n      <td>2010-02-28 19:54:09</td>\n      <td>2010-05-10 17:41:21</td>\n      <td>6126432.0</td>\n    </tr>\n    <tr>\n      <th>4</th>\n      <td>PYTHON-105</td>\n      <td>mike</td>\n      <td>Open</td>\n      <td>2010-02-19 22:54:44</td>\n      <td>2010-02-22 15:45:32</td>\n      <td>233448.0</td>\n    </tr>\n    <tr>\n      <th>...</th>\n      <td>...</td>\n      <td>...</td>\n      <td>...</td>\n      <td>...</td>\n      <td>...</td>\n      <td>...</td>\n    </tr>\n    <tr>\n      <th>8914</th>\n      <td>PYTHON-4</td>\n      <td>behackett</td>\n      <td>Open</td>\n      <td>2009-04-09 09:40:32</td>\n      <td>2011-07-12 02:47:50</td>\n      <td>71168838.0</td>\n    </tr>\n    <tr>\n      <th>8915</th>\n      <td>PYTHON-4</td>\n      <td>behackett</td>\n      <td>Resolved</td>\n      <td>2009-04-09 09:40:32</td>\n      <td>2011-08-05 23:04:33</td>\n      <td>73315441.0</td>\n    </tr>\n    <tr>\n      <th>8916</th>\n      <td>PYTHON-3</td>\n      <td>mike</td>\n      <td>Open</td>\n      <td>2009-04-09 09:39:56</td>\n      <td>2009-10-26 12:08:50</td>\n      <td>17288934.0</td>\n    </tr>\n    <tr>\n      <th>8917</th>\n      <td>PYTHON-2</td>\n      <td>mike</td>\n      <td>Open</td>\n      <td>2009-04-09 09:39:06</td>\n      <td>2009-07-20 17:19:39</td>\n      <td>8840433.0</td>\n    </tr>\n    <tr>\n      <th>8918</th>\n      <td>PYTHON-1</td>\n      <td>mike</td>\n      <td>Open</td>\n      <td>2009-04-09 09:38:38</td>\n      <td>2009-07-15 14:47:27</td>\n      <td>8399329.0</td>\n    </tr>\n  </tbody>\n</table>\n<p>8919 rows × 6 columns</p>\n</div>"
     },
     "execution_count": 32,
     "metadata": {},
     "output_type": "execute_result"
    }
   ],
   "source": [
    "status_duration"
   ],
   "metadata": {
    "collapsed": false,
    "ExecuteTime": {
     "end_time": "2024-06-21T17:48:56.683153Z",
     "start_time": "2024-06-21T17:48:56.666610Z"
    }
   },
   "id": "e2408bac9af7607d",
   "execution_count": 32
  },
  {
   "cell_type": "code",
   "outputs": [],
   "source": [
    "status_duration[\"working_duration\"] = np.nan\n"
   ],
   "metadata": {
    "collapsed": false,
    "ExecuteTime": {
     "end_time": "2024-06-21T17:48:56.694451Z",
     "start_time": "2024-06-21T17:48:56.685193Z"
    }
   },
   "id": "d5dd3a400262604b",
   "execution_count": 33
  },
  {
   "cell_type": "code",
   "outputs": [
    {
     "name": "stdout",
     "output_type": "stream",
     "text": [
      "<class 'pandas.core.frame.DataFrame'>\n",
      "RangeIndex: 8919 entries, 0 to 8918\n",
      "Data columns (total 7 columns):\n",
      " #   Column             Non-Null Count  Dtype         \n",
      "---  ------             --------------  -----         \n",
      " 0   issue_key          8919 non-null   object        \n",
      " 1   author_key         8918 non-null   object        \n",
      " 2   status             8919 non-null   object        \n",
      " 3   start_date         8919 non-null   datetime64[ns]\n",
      " 4   end_date           8919 non-null   datetime64[ns]\n",
      " 5   calendar_duration  8919 non-null   float64       \n",
      " 6   working_duration   0 non-null      float64       \n",
      "dtypes: datetime64[ns](2), float64(2), object(3)\n",
      "memory usage: 487.9+ KB\n"
     ]
    }
   ],
   "source": [
    "status_duration.info()"
   ],
   "metadata": {
    "collapsed": false,
    "ExecuteTime": {
     "end_time": "2024-06-21T17:48:56.718068Z",
     "start_time": "2024-06-21T17:48:56.698548Z"
    }
   },
   "id": "1e621b7016c04dff",
   "execution_count": 34
  },
  {
   "cell_type": "code",
   "outputs": [],
   "source": [
    "from datetime import timedelta, datetime\n",
    "\n",
    "\n",
    "def calculate_working_seconds(start_date: datetime, end_date: datetime) -> int:\n",
    "    current_date = start_date\n",
    "    working_hour_start = 10\n",
    "    working_hour_end = 20\n",
    "    total_seconds = 0\n",
    "\n",
    "    while current_date <= end_date:\n",
    "        if current_date.weekday() not in (5, 6):\n",
    "            start_work = current_date.replace(hour=working_hour_start, minute=0, second=0, microsecond=0)\n",
    "            end_work = current_date.replace(hour=working_hour_end, minute=0, second=0, microsecond=0)\n",
    "\n",
    "            if current_date.hour < working_hour_end:\n",
    "                if current_date.hour >= working_hour_start:\n",
    "                    if current_date.date() == end_date.date() and end_date.hour < working_hour_end:\n",
    "                        total_seconds += (end_date - current_date).total_seconds()\n",
    "                    else:\n",
    "                        total_seconds += (end_work - current_date).total_seconds()\n",
    "                else:\n",
    "                    total_seconds += (end_work - start_work).total_seconds()\n",
    "\n",
    "        current_date += timedelta(days=1)\n",
    "        current_date = current_date.replace(hour=working_hour_start, minute=0, second=0, microsecond=0)\n",
    "\n",
    "    return total_seconds\n"
   ],
   "metadata": {
    "collapsed": false,
    "ExecuteTime": {
     "end_time": "2024-06-21T17:48:56.730989Z",
     "start_time": "2024-06-21T17:48:56.720143Z"
    }
   },
   "id": "d2620b6597dffff1",
   "execution_count": 35
  },
  {
   "cell_type": "code",
   "outputs": [
    {
     "data": {
      "text/plain": "       issue_key author_key    status          start_date            end_date  \\\n0     PYTHON-109       mike      Open 2010-03-05 18:51:36 2010-03-10 12:13:11   \n1     PYTHON-108       mike      Open 2010-03-05 14:28:32 2010-08-19 15:58:33   \n2     PYTHON-107       mike      Open 2010-03-01 04:07:10 2010-03-02 12:08:58   \n3     PYTHON-106       mike      Open 2010-02-28 19:54:09 2010-05-10 17:41:21   \n4     PYTHON-105       mike      Open 2010-02-19 22:54:44 2010-02-22 15:45:32   \n...          ...        ...       ...                 ...                 ...   \n8914    PYTHON-4  behackett      Open 2009-04-09 09:40:32 2011-07-12 02:47:50   \n8915    PYTHON-4  behackett  Resolved 2009-04-09 09:40:32 2011-08-05 23:04:33   \n8916    PYTHON-3       mike      Open 2009-04-09 09:39:56 2009-10-26 12:08:50   \n8917    PYTHON-2       mike      Open 2009-04-09 09:39:06 2009-07-20 17:19:39   \n8918    PYTHON-1       mike      Open 2009-04-09 09:38:38 2009-07-15 14:47:27   \n\n      calendar_duration  working_duration  \n0              408095.0               NaN  \n1            14434201.0               NaN  \n2              115308.0               NaN  \n3             6126432.0               NaN  \n4              233448.0               NaN  \n...                 ...               ...  \n8914         71168838.0               NaN  \n8915         73315441.0               NaN  \n8916         17288934.0               NaN  \n8917          8840433.0               NaN  \n8918          8399329.0               NaN  \n\n[8919 rows x 7 columns]",
      "text/html": "<div>\n<style scoped>\n    .dataframe tbody tr th:only-of-type {\n        vertical-align: middle;\n    }\n\n    .dataframe tbody tr th {\n        vertical-align: top;\n    }\n\n    .dataframe thead th {\n        text-align: right;\n    }\n</style>\n<table border=\"1\" class=\"dataframe\">\n  <thead>\n    <tr style=\"text-align: right;\">\n      <th></th>\n      <th>issue_key</th>\n      <th>author_key</th>\n      <th>status</th>\n      <th>start_date</th>\n      <th>end_date</th>\n      <th>calendar_duration</th>\n      <th>working_duration</th>\n    </tr>\n  </thead>\n  <tbody>\n    <tr>\n      <th>0</th>\n      <td>PYTHON-109</td>\n      <td>mike</td>\n      <td>Open</td>\n      <td>2010-03-05 18:51:36</td>\n      <td>2010-03-10 12:13:11</td>\n      <td>408095.0</td>\n      <td>NaN</td>\n    </tr>\n    <tr>\n      <th>1</th>\n      <td>PYTHON-108</td>\n      <td>mike</td>\n      <td>Open</td>\n      <td>2010-03-05 14:28:32</td>\n      <td>2010-08-19 15:58:33</td>\n      <td>14434201.0</td>\n      <td>NaN</td>\n    </tr>\n    <tr>\n      <th>2</th>\n      <td>PYTHON-107</td>\n      <td>mike</td>\n      <td>Open</td>\n      <td>2010-03-01 04:07:10</td>\n      <td>2010-03-02 12:08:58</td>\n      <td>115308.0</td>\n      <td>NaN</td>\n    </tr>\n    <tr>\n      <th>3</th>\n      <td>PYTHON-106</td>\n      <td>mike</td>\n      <td>Open</td>\n      <td>2010-02-28 19:54:09</td>\n      <td>2010-05-10 17:41:21</td>\n      <td>6126432.0</td>\n      <td>NaN</td>\n    </tr>\n    <tr>\n      <th>4</th>\n      <td>PYTHON-105</td>\n      <td>mike</td>\n      <td>Open</td>\n      <td>2010-02-19 22:54:44</td>\n      <td>2010-02-22 15:45:32</td>\n      <td>233448.0</td>\n      <td>NaN</td>\n    </tr>\n    <tr>\n      <th>...</th>\n      <td>...</td>\n      <td>...</td>\n      <td>...</td>\n      <td>...</td>\n      <td>...</td>\n      <td>...</td>\n      <td>...</td>\n    </tr>\n    <tr>\n      <th>8914</th>\n      <td>PYTHON-4</td>\n      <td>behackett</td>\n      <td>Open</td>\n      <td>2009-04-09 09:40:32</td>\n      <td>2011-07-12 02:47:50</td>\n      <td>71168838.0</td>\n      <td>NaN</td>\n    </tr>\n    <tr>\n      <th>8915</th>\n      <td>PYTHON-4</td>\n      <td>behackett</td>\n      <td>Resolved</td>\n      <td>2009-04-09 09:40:32</td>\n      <td>2011-08-05 23:04:33</td>\n      <td>73315441.0</td>\n      <td>NaN</td>\n    </tr>\n    <tr>\n      <th>8916</th>\n      <td>PYTHON-3</td>\n      <td>mike</td>\n      <td>Open</td>\n      <td>2009-04-09 09:39:56</td>\n      <td>2009-10-26 12:08:50</td>\n      <td>17288934.0</td>\n      <td>NaN</td>\n    </tr>\n    <tr>\n      <th>8917</th>\n      <td>PYTHON-2</td>\n      <td>mike</td>\n      <td>Open</td>\n      <td>2009-04-09 09:39:06</td>\n      <td>2009-07-20 17:19:39</td>\n      <td>8840433.0</td>\n      <td>NaN</td>\n    </tr>\n    <tr>\n      <th>8918</th>\n      <td>PYTHON-1</td>\n      <td>mike</td>\n      <td>Open</td>\n      <td>2009-04-09 09:38:38</td>\n      <td>2009-07-15 14:47:27</td>\n      <td>8399329.0</td>\n      <td>NaN</td>\n    </tr>\n  </tbody>\n</table>\n<p>8919 rows × 7 columns</p>\n</div>"
     },
     "execution_count": 36,
     "metadata": {},
     "output_type": "execute_result"
    }
   ],
   "source": [
    "status_duration[\"working_duration\"] = np.where(\n",
    "    status_duration[\"status\"] == \"In Progress\", status_duration.apply(\n",
    "        lambda row: calculate_working_seconds(row[\"start_date\"], row[\"end_date\"]), axis=1),\n",
    "    np.nan\n",
    ")\n",
    "\n",
    "status_duration"
   ],
   "metadata": {
    "collapsed": false,
    "ExecuteTime": {
     "end_time": "2024-06-21T17:49:07.836665Z",
     "start_time": "2024-06-21T17:48:56.735014Z"
    }
   },
   "id": "5ceacbffa63593db",
   "execution_count": 36
  },
  {
   "cell_type": "markdown",
   "source": [
    "Завдання 4\n",
    "Якщо людина працює над декількома задачами одночасно - робочий час за цей період (коли він працює над декількома задачами) ділиться на кількість задач, над якими він працює."
   ],
   "metadata": {
    "collapsed": false
   },
   "id": "a38cd026f64573f1"
  },
  {
   "cell_type": "code",
   "outputs": [
    {
     "name": "stdout",
     "output_type": "stream",
     "text": [
      "<class 'pandas.core.frame.DataFrame'>\n",
      "RangeIndex: 8919 entries, 0 to 8918\n",
      "Data columns (total 7 columns):\n",
      " #   Column             Non-Null Count  Dtype         \n",
      "---  ------             --------------  -----         \n",
      " 0   issue_key          8919 non-null   object        \n",
      " 1   author_key         8918 non-null   object        \n",
      " 2   status             8919 non-null   object        \n",
      " 3   start_date         8919 non-null   datetime64[ns]\n",
      " 4   end_date           8919 non-null   datetime64[ns]\n",
      " 5   calendar_duration  8919 non-null   float64       \n",
      " 6   working_duration   1378 non-null   float64       \n",
      "dtypes: datetime64[ns](2), float64(2), object(3)\n",
      "memory usage: 487.9+ KB\n"
     ]
    }
   ],
   "source": [
    "status_duration.info()"
   ],
   "metadata": {
    "collapsed": false,
    "ExecuteTime": {
     "end_time": "2024-06-21T17:49:07.854254Z",
     "start_time": "2024-06-21T17:49:07.838762Z"
    }
   },
   "id": "7fdab419b3668fb2",
   "execution_count": 37
  },
  {
   "cell_type": "code",
   "outputs": [],
   "source": [
    "df = status_duration\n",
    "\n",
    "\n",
    "def distribute_working_hours(df: pd.DataFrame):\n",
    "    df[\"working_duration\"] = 0.0\n",
    "    df_in_progress = df[df[\"status\"] == \"In Progress\"]\n",
    "    grouped = df_in_progress.groupby(\"author_key\")\n",
    "\n",
    "    for author, group in grouped:\n",
    "        events = []\n",
    "        for i, row in group.iterrows():\n",
    "            events.append((row[\"start_date\"], \"start\", row[\"issue_key\"]))\n",
    "            events.append((row[\"end_date\"], \"end\", row[\"issue_key\"]))\n",
    "\n",
    "        events.sort()\n",
    "\n",
    "        current_tasks = set()\n",
    "        last_time = None\n",
    "\n",
    "        for current_time, event_type, issue_key in events:\n",
    "            if current_tasks and (event_type == \"start\" or event_type == \"end\"):\n",
    "                split_working_duration = calculate_working_seconds(last_time, current_time) / len(current_tasks)\n",
    "\n",
    "                for task in current_tasks:\n",
    "                    condition = (df[\"issue_key\"] == task) & (df[\"status\"] == \"In Progress\")\n",
    "                    df.loc[condition, \"working_duration\"] += split_working_duration\n",
    "\n",
    "            if event_type == \"start\":\n",
    "                current_tasks.add(issue_key)\n",
    "            elif event_type == \"end\":\n",
    "                if issue_key in current_tasks:\n",
    "                    current_tasks.remove(issue_key)\n",
    "\n",
    "            last_time = current_time\n",
    "\n",
    "    return df"
   ],
   "metadata": {
    "collapsed": false,
    "ExecuteTime": {
     "end_time": "2024-06-21T17:49:07.866569Z",
     "start_time": "2024-06-21T17:49:07.855543Z"
    }
   },
   "id": "aac9c2735f4b793",
   "execution_count": 38
  },
  {
   "cell_type": "code",
   "outputs": [
    {
     "data": {
      "text/plain": "       issue_key author_key    status          start_date            end_date  \\\n0     PYTHON-109       mike      Open 2010-03-05 18:51:36 2010-03-10 12:13:11   \n1     PYTHON-108       mike      Open 2010-03-05 14:28:32 2010-08-19 15:58:33   \n2     PYTHON-107       mike      Open 2010-03-01 04:07:10 2010-03-02 12:08:58   \n3     PYTHON-106       mike      Open 2010-02-28 19:54:09 2010-05-10 17:41:21   \n4     PYTHON-105       mike      Open 2010-02-19 22:54:44 2010-02-22 15:45:32   \n...          ...        ...       ...                 ...                 ...   \n8914    PYTHON-4  behackett      Open 2009-04-09 09:40:32 2011-07-12 02:47:50   \n8915    PYTHON-4  behackett  Resolved 2009-04-09 09:40:32 2011-08-05 23:04:33   \n8916    PYTHON-3       mike      Open 2009-04-09 09:39:56 2009-10-26 12:08:50   \n8917    PYTHON-2       mike      Open 2009-04-09 09:39:06 2009-07-20 17:19:39   \n8918    PYTHON-1       mike      Open 2009-04-09 09:38:38 2009-07-15 14:47:27   \n\n      calendar_duration  working_duration  \n0              408095.0               0.0  \n1            14434201.0               0.0  \n2              115308.0               0.0  \n3             6126432.0               0.0  \n4              233448.0               0.0  \n...                 ...               ...  \n8914         71168838.0               0.0  \n8915         73315441.0               0.0  \n8916         17288934.0               0.0  \n8917          8840433.0               0.0  \n8918          8399329.0               0.0  \n\n[8919 rows x 7 columns]",
      "text/html": "<div>\n<style scoped>\n    .dataframe tbody tr th:only-of-type {\n        vertical-align: middle;\n    }\n\n    .dataframe tbody tr th {\n        vertical-align: top;\n    }\n\n    .dataframe thead th {\n        text-align: right;\n    }\n</style>\n<table border=\"1\" class=\"dataframe\">\n  <thead>\n    <tr style=\"text-align: right;\">\n      <th></th>\n      <th>issue_key</th>\n      <th>author_key</th>\n      <th>status</th>\n      <th>start_date</th>\n      <th>end_date</th>\n      <th>calendar_duration</th>\n      <th>working_duration</th>\n    </tr>\n  </thead>\n  <tbody>\n    <tr>\n      <th>0</th>\n      <td>PYTHON-109</td>\n      <td>mike</td>\n      <td>Open</td>\n      <td>2010-03-05 18:51:36</td>\n      <td>2010-03-10 12:13:11</td>\n      <td>408095.0</td>\n      <td>0.0</td>\n    </tr>\n    <tr>\n      <th>1</th>\n      <td>PYTHON-108</td>\n      <td>mike</td>\n      <td>Open</td>\n      <td>2010-03-05 14:28:32</td>\n      <td>2010-08-19 15:58:33</td>\n      <td>14434201.0</td>\n      <td>0.0</td>\n    </tr>\n    <tr>\n      <th>2</th>\n      <td>PYTHON-107</td>\n      <td>mike</td>\n      <td>Open</td>\n      <td>2010-03-01 04:07:10</td>\n      <td>2010-03-02 12:08:58</td>\n      <td>115308.0</td>\n      <td>0.0</td>\n    </tr>\n    <tr>\n      <th>3</th>\n      <td>PYTHON-106</td>\n      <td>mike</td>\n      <td>Open</td>\n      <td>2010-02-28 19:54:09</td>\n      <td>2010-05-10 17:41:21</td>\n      <td>6126432.0</td>\n      <td>0.0</td>\n    </tr>\n    <tr>\n      <th>4</th>\n      <td>PYTHON-105</td>\n      <td>mike</td>\n      <td>Open</td>\n      <td>2010-02-19 22:54:44</td>\n      <td>2010-02-22 15:45:32</td>\n      <td>233448.0</td>\n      <td>0.0</td>\n    </tr>\n    <tr>\n      <th>...</th>\n      <td>...</td>\n      <td>...</td>\n      <td>...</td>\n      <td>...</td>\n      <td>...</td>\n      <td>...</td>\n      <td>...</td>\n    </tr>\n    <tr>\n      <th>8914</th>\n      <td>PYTHON-4</td>\n      <td>behackett</td>\n      <td>Open</td>\n      <td>2009-04-09 09:40:32</td>\n      <td>2011-07-12 02:47:50</td>\n      <td>71168838.0</td>\n      <td>0.0</td>\n    </tr>\n    <tr>\n      <th>8915</th>\n      <td>PYTHON-4</td>\n      <td>behackett</td>\n      <td>Resolved</td>\n      <td>2009-04-09 09:40:32</td>\n      <td>2011-08-05 23:04:33</td>\n      <td>73315441.0</td>\n      <td>0.0</td>\n    </tr>\n    <tr>\n      <th>8916</th>\n      <td>PYTHON-3</td>\n      <td>mike</td>\n      <td>Open</td>\n      <td>2009-04-09 09:39:56</td>\n      <td>2009-10-26 12:08:50</td>\n      <td>17288934.0</td>\n      <td>0.0</td>\n    </tr>\n    <tr>\n      <th>8917</th>\n      <td>PYTHON-2</td>\n      <td>mike</td>\n      <td>Open</td>\n      <td>2009-04-09 09:39:06</td>\n      <td>2009-07-20 17:19:39</td>\n      <td>8840433.0</td>\n      <td>0.0</td>\n    </tr>\n    <tr>\n      <th>8918</th>\n      <td>PYTHON-1</td>\n      <td>mike</td>\n      <td>Open</td>\n      <td>2009-04-09 09:38:38</td>\n      <td>2009-07-15 14:47:27</td>\n      <td>8399329.0</td>\n      <td>0.0</td>\n    </tr>\n  </tbody>\n</table>\n<p>8919 rows × 7 columns</p>\n</div>"
     },
     "execution_count": 39,
     "metadata": {},
     "output_type": "execute_result"
    }
   ],
   "source": [
    "result_df = distribute_working_hours(df)\n",
    "result_df"
   ],
   "metadata": {
    "collapsed": false,
    "ExecuteTime": {
     "end_time": "2024-06-21T17:51:03.305034Z",
     "start_time": "2024-06-21T17:49:07.869096Z"
    }
   },
   "id": "af2db320868f0f8f",
   "execution_count": 39
  },
  {
   "cell_type": "markdown",
   "source": [
    "Завдання 5\n",
    "Розрахувати загальну вартість всіх задач в межах типу задач. Тип задач знаходиться в таблиці issues колонка issue_type. Розрахувати за такою логікою:\n",
    "\n",
    "Якщо author_key починається з \"JIRAUSER\" - ціна години часу такого спеціаліста $1.00\n",
    "Якщо author_key НЕ починається з \"JIRAUSER\" - ціна години часу такого спеціаліста $2.00\n",
    "Результат:\n",
    "Таблиця з полями - issue_type, total_cost"
   ],
   "metadata": {
    "collapsed": false
   },
   "id": "5cee9fe1515fbb22"
  },
  {
   "cell_type": "code",
   "outputs": [],
   "source": [
    "def calculate_cost(row: pd.Series):\n",
    "    if row[\"author_key\"]:\n",
    "        price = 1.0 if row[\"author_key\"].startswith(\"JIRAUSER\") else 2.0\n",
    "        cost = price * (row[\"working_duration\"] / 3600)\n",
    "        return cost\n",
    "    return 0"
   ],
   "metadata": {
    "collapsed": false,
    "ExecuteTime": {
     "end_time": "2024-06-21T17:51:03.316338Z",
     "start_time": "2024-06-21T17:51:03.309241Z"
    }
   },
   "id": "4eabca871913983a",
   "execution_count": 40
  },
  {
   "cell_type": "code",
   "outputs": [
    {
     "data": {
      "text/plain": "       issue_key author_key    status          start_date            end_date  \\\n0     PYTHON-109       mike      Open 2010-03-05 18:51:36 2010-03-10 12:13:11   \n1     PYTHON-108       mike      Open 2010-03-05 14:28:32 2010-08-19 15:58:33   \n2     PYTHON-107       mike      Open 2010-03-01 04:07:10 2010-03-02 12:08:58   \n3     PYTHON-106       mike      Open 2010-02-28 19:54:09 2010-05-10 17:41:21   \n4     PYTHON-105       mike      Open 2010-02-19 22:54:44 2010-02-22 15:45:32   \n...          ...        ...       ...                 ...                 ...   \n8914    PYTHON-4  behackett      Open 2009-04-09 09:40:32 2011-07-12 02:47:50   \n8915    PYTHON-4  behackett  Resolved 2009-04-09 09:40:32 2011-08-05 23:04:33   \n8916    PYTHON-3       mike      Open 2009-04-09 09:39:56 2009-10-26 12:08:50   \n8917    PYTHON-2       mike      Open 2009-04-09 09:39:06 2009-07-20 17:19:39   \n8918    PYTHON-1       mike      Open 2009-04-09 09:38:38 2009-07-15 14:47:27   \n\n      calendar_duration  working_duration  task_cost  \n0              408095.0               0.0        0.0  \n1            14434201.0               0.0        0.0  \n2              115308.0               0.0        0.0  \n3             6126432.0               0.0        0.0  \n4              233448.0               0.0        0.0  \n...                 ...               ...        ...  \n8914         71168838.0               0.0        0.0  \n8915         73315441.0               0.0        0.0  \n8916         17288934.0               0.0        0.0  \n8917          8840433.0               0.0        0.0  \n8918          8399329.0               0.0        0.0  \n\n[8919 rows x 8 columns]",
      "text/html": "<div>\n<style scoped>\n    .dataframe tbody tr th:only-of-type {\n        vertical-align: middle;\n    }\n\n    .dataframe tbody tr th {\n        vertical-align: top;\n    }\n\n    .dataframe thead th {\n        text-align: right;\n    }\n</style>\n<table border=\"1\" class=\"dataframe\">\n  <thead>\n    <tr style=\"text-align: right;\">\n      <th></th>\n      <th>issue_key</th>\n      <th>author_key</th>\n      <th>status</th>\n      <th>start_date</th>\n      <th>end_date</th>\n      <th>calendar_duration</th>\n      <th>working_duration</th>\n      <th>task_cost</th>\n    </tr>\n  </thead>\n  <tbody>\n    <tr>\n      <th>0</th>\n      <td>PYTHON-109</td>\n      <td>mike</td>\n      <td>Open</td>\n      <td>2010-03-05 18:51:36</td>\n      <td>2010-03-10 12:13:11</td>\n      <td>408095.0</td>\n      <td>0.0</td>\n      <td>0.0</td>\n    </tr>\n    <tr>\n      <th>1</th>\n      <td>PYTHON-108</td>\n      <td>mike</td>\n      <td>Open</td>\n      <td>2010-03-05 14:28:32</td>\n      <td>2010-08-19 15:58:33</td>\n      <td>14434201.0</td>\n      <td>0.0</td>\n      <td>0.0</td>\n    </tr>\n    <tr>\n      <th>2</th>\n      <td>PYTHON-107</td>\n      <td>mike</td>\n      <td>Open</td>\n      <td>2010-03-01 04:07:10</td>\n      <td>2010-03-02 12:08:58</td>\n      <td>115308.0</td>\n      <td>0.0</td>\n      <td>0.0</td>\n    </tr>\n    <tr>\n      <th>3</th>\n      <td>PYTHON-106</td>\n      <td>mike</td>\n      <td>Open</td>\n      <td>2010-02-28 19:54:09</td>\n      <td>2010-05-10 17:41:21</td>\n      <td>6126432.0</td>\n      <td>0.0</td>\n      <td>0.0</td>\n    </tr>\n    <tr>\n      <th>4</th>\n      <td>PYTHON-105</td>\n      <td>mike</td>\n      <td>Open</td>\n      <td>2010-02-19 22:54:44</td>\n      <td>2010-02-22 15:45:32</td>\n      <td>233448.0</td>\n      <td>0.0</td>\n      <td>0.0</td>\n    </tr>\n    <tr>\n      <th>...</th>\n      <td>...</td>\n      <td>...</td>\n      <td>...</td>\n      <td>...</td>\n      <td>...</td>\n      <td>...</td>\n      <td>...</td>\n      <td>...</td>\n    </tr>\n    <tr>\n      <th>8914</th>\n      <td>PYTHON-4</td>\n      <td>behackett</td>\n      <td>Open</td>\n      <td>2009-04-09 09:40:32</td>\n      <td>2011-07-12 02:47:50</td>\n      <td>71168838.0</td>\n      <td>0.0</td>\n      <td>0.0</td>\n    </tr>\n    <tr>\n      <th>8915</th>\n      <td>PYTHON-4</td>\n      <td>behackett</td>\n      <td>Resolved</td>\n      <td>2009-04-09 09:40:32</td>\n      <td>2011-08-05 23:04:33</td>\n      <td>73315441.0</td>\n      <td>0.0</td>\n      <td>0.0</td>\n    </tr>\n    <tr>\n      <th>8916</th>\n      <td>PYTHON-3</td>\n      <td>mike</td>\n      <td>Open</td>\n      <td>2009-04-09 09:39:56</td>\n      <td>2009-10-26 12:08:50</td>\n      <td>17288934.0</td>\n      <td>0.0</td>\n      <td>0.0</td>\n    </tr>\n    <tr>\n      <th>8917</th>\n      <td>PYTHON-2</td>\n      <td>mike</td>\n      <td>Open</td>\n      <td>2009-04-09 09:39:06</td>\n      <td>2009-07-20 17:19:39</td>\n      <td>8840433.0</td>\n      <td>0.0</td>\n      <td>0.0</td>\n    </tr>\n    <tr>\n      <th>8918</th>\n      <td>PYTHON-1</td>\n      <td>mike</td>\n      <td>Open</td>\n      <td>2009-04-09 09:38:38</td>\n      <td>2009-07-15 14:47:27</td>\n      <td>8399329.0</td>\n      <td>0.0</td>\n      <td>0.0</td>\n    </tr>\n  </tbody>\n</table>\n<p>8919 rows × 8 columns</p>\n</div>"
     },
     "execution_count": 41,
     "metadata": {},
     "output_type": "execute_result"
    }
   ],
   "source": [
    "result_df[\"task_cost\"] = result_df.apply(calculate_cost, axis=1)\n",
    "result_df"
   ],
   "metadata": {
    "collapsed": false,
    "ExecuteTime": {
     "end_time": "2024-06-21T17:51:03.534729Z",
     "start_time": "2024-06-21T17:51:03.318391Z"
    }
   },
   "id": "54b95bcc8e1b7dc8",
   "execution_count": 41
  },
  {
   "cell_type": "code",
   "outputs": [
    {
     "data": {
      "text/plain": "       issue_key author_key    status          start_date            end_date  \\\n0     PYTHON-109       mike      Open 2010-03-05 18:51:36 2010-03-10 12:13:11   \n1     PYTHON-108       mike      Open 2010-03-05 14:28:32 2010-08-19 15:58:33   \n2     PYTHON-107       mike      Open 2010-03-01 04:07:10 2010-03-02 12:08:58   \n3     PYTHON-106       mike      Open 2010-02-28 19:54:09 2010-05-10 17:41:21   \n4     PYTHON-105       mike      Open 2010-02-19 22:54:44 2010-02-22 15:45:32   \n...          ...        ...       ...                 ...                 ...   \n8914    PYTHON-4  behackett      Open 2009-04-09 09:40:32 2011-07-12 02:47:50   \n8915    PYTHON-4  behackett  Resolved 2009-04-09 09:40:32 2011-08-05 23:04:33   \n8916    PYTHON-3       mike      Open 2009-04-09 09:39:56 2009-10-26 12:08:50   \n8917    PYTHON-2       mike      Open 2009-04-09 09:39:06 2009-07-20 17:19:39   \n8918    PYTHON-1       mike      Open 2009-04-09 09:38:38 2009-07-15 14:47:27   \n\n      calendar_duration  working_duration  task_cost   issue_type  \n0              408095.0               0.0        0.0  Improvement  \n1            14434201.0               0.0        0.0  Improvement  \n2              115308.0               0.0        0.0  Improvement  \n3             6126432.0               0.0        0.0          Bug  \n4              233448.0               0.0        0.0          Bug  \n...                 ...               ...        ...          ...  \n8914         71168838.0               0.0        0.0          Bug  \n8915         73315441.0               0.0        0.0          Bug  \n8916         17288934.0               0.0        0.0  New Feature  \n8917          8840433.0               0.0        0.0  New Feature  \n8918          8399329.0               0.0        0.0  Improvement  \n\n[8919 rows x 9 columns]",
      "text/html": "<div>\n<style scoped>\n    .dataframe tbody tr th:only-of-type {\n        vertical-align: middle;\n    }\n\n    .dataframe tbody tr th {\n        vertical-align: top;\n    }\n\n    .dataframe thead th {\n        text-align: right;\n    }\n</style>\n<table border=\"1\" class=\"dataframe\">\n  <thead>\n    <tr style=\"text-align: right;\">\n      <th></th>\n      <th>issue_key</th>\n      <th>author_key</th>\n      <th>status</th>\n      <th>start_date</th>\n      <th>end_date</th>\n      <th>calendar_duration</th>\n      <th>working_duration</th>\n      <th>task_cost</th>\n      <th>issue_type</th>\n    </tr>\n  </thead>\n  <tbody>\n    <tr>\n      <th>0</th>\n      <td>PYTHON-109</td>\n      <td>mike</td>\n      <td>Open</td>\n      <td>2010-03-05 18:51:36</td>\n      <td>2010-03-10 12:13:11</td>\n      <td>408095.0</td>\n      <td>0.0</td>\n      <td>0.0</td>\n      <td>Improvement</td>\n    </tr>\n    <tr>\n      <th>1</th>\n      <td>PYTHON-108</td>\n      <td>mike</td>\n      <td>Open</td>\n      <td>2010-03-05 14:28:32</td>\n      <td>2010-08-19 15:58:33</td>\n      <td>14434201.0</td>\n      <td>0.0</td>\n      <td>0.0</td>\n      <td>Improvement</td>\n    </tr>\n    <tr>\n      <th>2</th>\n      <td>PYTHON-107</td>\n      <td>mike</td>\n      <td>Open</td>\n      <td>2010-03-01 04:07:10</td>\n      <td>2010-03-02 12:08:58</td>\n      <td>115308.0</td>\n      <td>0.0</td>\n      <td>0.0</td>\n      <td>Improvement</td>\n    </tr>\n    <tr>\n      <th>3</th>\n      <td>PYTHON-106</td>\n      <td>mike</td>\n      <td>Open</td>\n      <td>2010-02-28 19:54:09</td>\n      <td>2010-05-10 17:41:21</td>\n      <td>6126432.0</td>\n      <td>0.0</td>\n      <td>0.0</td>\n      <td>Bug</td>\n    </tr>\n    <tr>\n      <th>4</th>\n      <td>PYTHON-105</td>\n      <td>mike</td>\n      <td>Open</td>\n      <td>2010-02-19 22:54:44</td>\n      <td>2010-02-22 15:45:32</td>\n      <td>233448.0</td>\n      <td>0.0</td>\n      <td>0.0</td>\n      <td>Bug</td>\n    </tr>\n    <tr>\n      <th>...</th>\n      <td>...</td>\n      <td>...</td>\n      <td>...</td>\n      <td>...</td>\n      <td>...</td>\n      <td>...</td>\n      <td>...</td>\n      <td>...</td>\n      <td>...</td>\n    </tr>\n    <tr>\n      <th>8914</th>\n      <td>PYTHON-4</td>\n      <td>behackett</td>\n      <td>Open</td>\n      <td>2009-04-09 09:40:32</td>\n      <td>2011-07-12 02:47:50</td>\n      <td>71168838.0</td>\n      <td>0.0</td>\n      <td>0.0</td>\n      <td>Bug</td>\n    </tr>\n    <tr>\n      <th>8915</th>\n      <td>PYTHON-4</td>\n      <td>behackett</td>\n      <td>Resolved</td>\n      <td>2009-04-09 09:40:32</td>\n      <td>2011-08-05 23:04:33</td>\n      <td>73315441.0</td>\n      <td>0.0</td>\n      <td>0.0</td>\n      <td>Bug</td>\n    </tr>\n    <tr>\n      <th>8916</th>\n      <td>PYTHON-3</td>\n      <td>mike</td>\n      <td>Open</td>\n      <td>2009-04-09 09:39:56</td>\n      <td>2009-10-26 12:08:50</td>\n      <td>17288934.0</td>\n      <td>0.0</td>\n      <td>0.0</td>\n      <td>New Feature</td>\n    </tr>\n    <tr>\n      <th>8917</th>\n      <td>PYTHON-2</td>\n      <td>mike</td>\n      <td>Open</td>\n      <td>2009-04-09 09:39:06</td>\n      <td>2009-07-20 17:19:39</td>\n      <td>8840433.0</td>\n      <td>0.0</td>\n      <td>0.0</td>\n      <td>New Feature</td>\n    </tr>\n    <tr>\n      <th>8918</th>\n      <td>PYTHON-1</td>\n      <td>mike</td>\n      <td>Open</td>\n      <td>2009-04-09 09:38:38</td>\n      <td>2009-07-15 14:47:27</td>\n      <td>8399329.0</td>\n      <td>0.0</td>\n      <td>0.0</td>\n      <td>Improvement</td>\n    </tr>\n  </tbody>\n</table>\n<p>8919 rows × 9 columns</p>\n</div>"
     },
     "execution_count": 42,
     "metadata": {},
     "output_type": "execute_result"
    }
   ],
   "source": [
    "merged_df = pd.merge(result_df, issues[[\"issue_key\", \"issue_type\"]], on=\"issue_key\")\n",
    "merged_df\n"
   ],
   "metadata": {
    "collapsed": false,
    "ExecuteTime": {
     "end_time": "2024-06-21T17:51:03.578550Z",
     "start_time": "2024-06-21T17:51:03.536739Z"
    }
   },
   "id": "6a68cc3f124ce200",
   "execution_count": 42
  },
  {
   "cell_type": "code",
   "outputs": [
    {
     "data": {
      "text/plain": "    issue_type     total_cost\n0          Bug   44528.027277\n1         Epic   45629.985472\n2  Improvement  115735.931810\n3  New Feature   70215.913677\n4     Question       0.000000\n5  Spec Change     874.577644\n6     Sub-task     112.959948\n7         Task  102077.616847",
      "text/html": "<div>\n<style scoped>\n    .dataframe tbody tr th:only-of-type {\n        vertical-align: middle;\n    }\n\n    .dataframe tbody tr th {\n        vertical-align: top;\n    }\n\n    .dataframe thead th {\n        text-align: right;\n    }\n</style>\n<table border=\"1\" class=\"dataframe\">\n  <thead>\n    <tr style=\"text-align: right;\">\n      <th></th>\n      <th>issue_type</th>\n      <th>total_cost</th>\n    </tr>\n  </thead>\n  <tbody>\n    <tr>\n      <th>0</th>\n      <td>Bug</td>\n      <td>44528.027277</td>\n    </tr>\n    <tr>\n      <th>1</th>\n      <td>Epic</td>\n      <td>45629.985472</td>\n    </tr>\n    <tr>\n      <th>2</th>\n      <td>Improvement</td>\n      <td>115735.931810</td>\n    </tr>\n    <tr>\n      <th>3</th>\n      <td>New Feature</td>\n      <td>70215.913677</td>\n    </tr>\n    <tr>\n      <th>4</th>\n      <td>Question</td>\n      <td>0.000000</td>\n    </tr>\n    <tr>\n      <th>5</th>\n      <td>Spec Change</td>\n      <td>874.577644</td>\n    </tr>\n    <tr>\n      <th>6</th>\n      <td>Sub-task</td>\n      <td>112.959948</td>\n    </tr>\n    <tr>\n      <th>7</th>\n      <td>Task</td>\n      <td>102077.616847</td>\n    </tr>\n  </tbody>\n</table>\n</div>"
     },
     "execution_count": 43,
     "metadata": {},
     "output_type": "execute_result"
    }
   ],
   "source": [
    "total_cost_by_issue_type = merged_df.groupby(\"issue_type\")[\"task_cost\"].sum().reset_index()\n",
    "total_cost_by_issue_type.columns = [\"issue_type\", \"total_cost\"]\n",
    "\n",
    "total_cost_by_issue_type"
   ],
   "metadata": {
    "collapsed": false,
    "ExecuteTime": {
     "end_time": "2024-06-21T17:51:03.603507Z",
     "start_time": "2024-06-21T17:51:03.580879Z"
    }
   },
   "id": "9ce14121227b0ae1",
   "execution_count": 43
  },
  {
   "cell_type": "markdown",
   "source": [
    "extra: load in db"
   ],
   "metadata": {
    "collapsed": false
   },
   "id": "b23a42f9ff9b096"
  },
  {
   "cell_type": "code",
   "outputs": [],
   "source": [
    "with engine.connect() as conn:\n",
    "    total_cost_by_issue_type.to_sql(\"issue_costs\", con=conn, if_exists=\"replace\", index=False)\n"
   ],
   "metadata": {
    "collapsed": false,
    "ExecuteTime": {
     "end_time": "2024-06-21T17:51:03.779893Z",
     "start_time": "2024-06-21T17:51:03.605523Z"
    }
   },
   "id": "b832c28d7dee2b61",
   "execution_count": 44
  },
  {
   "cell_type": "code",
   "outputs": [],
   "source": [
    "result_df.to_csv(\"result.csv\")"
   ],
   "metadata": {
    "collapsed": false,
    "ExecuteTime": {
     "end_time": "2024-06-21T17:51:42.402087Z",
     "start_time": "2024-06-21T17:51:42.232418Z"
    }
   },
   "id": "2573028c01089d18",
   "execution_count": 46
  }
 ],
 "metadata": {
  "kernelspec": {
   "display_name": "Python 3",
   "language": "python",
   "name": "python3"
  },
  "language_info": {
   "codemirror_mode": {
    "name": "ipython",
    "version": 2
   },
   "file_extension": ".py",
   "mimetype": "text/x-python",
   "name": "python",
   "nbconvert_exporter": "python",
   "pygments_lexer": "ipython2",
   "version": "2.7.6"
  }
 },
 "nbformat": 4,
 "nbformat_minor": 5
}
